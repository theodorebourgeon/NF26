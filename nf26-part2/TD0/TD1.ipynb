{
 "cells": [
  {
   "cell_type": "markdown",
   "metadata": {},
   "source": [
    "# TD 1 Manipulation de données en python\n",
    "\n",
    "Données : https://app.dvf.etalab.gouv.fr/\n",
    "\n",
    "Tar : \n",
    "\n",
    "Tutorial : "
   ]
  },
  {
   "cell_type": "markdown",
   "metadata": {
    "scrolled": true
   },
   "source": [
    "## Modélisation"
   ]
  },
  {
   "cell_type": "markdown",
   "metadata": {},
   "source": [
    "### Question 1 \n",
    "\n",
    "Code parcelle = quelle parcelle considéré par la vente \n",
    "Mais plusieurs parcelles liées"
   ]
  },
  {
   "cell_type": "markdown",
   "metadata": {},
   "source": [
    "### Question 2 \n",
    "\n",
    "* Quelle est la section cadastrale la plus sujette aux mutations ?\n",
    "* Quel est le prix moyen au metre carré de chaque section cadastrale ?  \n",
    "* Combien de fois une parcelle est muté en moyenne ? "
   ]
  },
  {
   "cell_type": "markdown",
   "metadata": {},
   "source": [
    "## Chargement des données"
   ]
  },
  {
   "cell_type": "markdown",
   "metadata": {},
   "source": [
    "### Question 1 "
   ]
  },
  {
   "cell_type": "code",
   "execution_count": 24,
   "metadata": {},
   "outputs": [],
   "source": [
    "import csv\n",
    "import sys"
   ]
  },
  {
   "cell_type": "code",
   "execution_count": 25,
   "metadata": {},
   "outputs": [],
   "source": [
    "def lire_fichier_liste(fname):\n",
    "    dial = csv.excel\n",
    "    dial.delimiter = ';'\n",
    "    L = []\n",
    "    with open(fname) as f:\n",
    "        reader = csv.DictReader(f, dialect=dial)\n",
    "        for r in reader:\n",
    "            print('lecture ligne',file=sys.stderr)\n",
    "            L.append(dict(r))\n",
    "    return L "
   ]
  },
  {
   "cell_type": "markdown",
   "metadata": {},
   "source": [
    "Ici on lit toutes les données avant ( peut poser des soucis si fichier trop gros \n",
    "On ajoute print('lecture ligne', file=sys.stderr) pour voir comment cela se comporte"
   ]
  },
  {
   "cell_type": "code",
   "execution_count": 26,
   "metadata": {
    "scrolled": true
   },
   "outputs": [
    {
     "name": "stdout",
     "output_type": "stream",
     "text": [
      "{'Code service CH': 'None', 'Reference document': 'None', '1 Articles CGI': 'None', '2 Articles CGI': 'None', '3 Articles CGI': 'None', '4 Articles CGI': 'None', '5 Articles CGI': 'None', 'No disposition': '000001', 'Date mutation': '2018-02-28', 'Nature mutation': 'Vente', 'Valeur fonciere': '729700', 'No voie': 'None', 'B/T/Q': 'None', 'Type de voie': 'None', 'Code voie': 'B068', 'Voie': 'L ORTILLE', 'Code postal': '60200', 'Commune': 'COMPIEGNE', 'Code departement': '60', 'Code commune': '159', 'Prefixe de section': 'None', 'Section': 'E', 'No plan': '64', 'No Volume': 'None', '1er lot': 'None', 'Surface Carrez du 1er lot': 'None', '2eme lot': 'None', 'Surface Carrez du 2eme lot': 'None', '3eme lot': 'None', 'Surface Carrez du 3eme lot': 'None', '4eme lot': 'None', 'Surface Carrez du 4eme lot': 'None', '5eme lot': 'None', 'Surface Carrez du 5eme lot': 'None', 'Nombre de lots': '0', 'Code type local': 'nan', 'Type local': 'None', 'Identifiant local': 'None', 'Surface reelle bati': 'nan', 'Nombre pieces principales': 'nan', 'Nature culture': 'BR', 'Nature culture speciale': 'None', 'Surface terrain': '3840', 'Code parcelle': '601590000E0064', 'Code INSEE': '60159', 'Section prefixe': '0000E', 'groupe': '0'}\n"
     ]
    },
    {
     "name": "stderr",
     "output_type": "stream",
     "text": [
      "lecture ligne\n",
      "lecture ligne\n",
      "lecture ligne\n",
      "lecture ligne\n",
      "lecture ligne\n",
      "lecture ligne\n",
      "lecture ligne\n",
      "lecture ligne\n",
      "lecture ligne\n",
      "lecture ligne\n",
      "lecture ligne\n",
      "lecture ligne\n",
      "lecture ligne\n",
      "lecture ligne\n",
      "lecture ligne\n",
      "lecture ligne\n",
      "lecture ligne\n",
      "lecture ligne\n",
      "lecture ligne\n",
      "lecture ligne\n",
      "lecture ligne\n",
      "lecture ligne\n",
      "lecture ligne\n",
      "lecture ligne\n",
      "lecture ligne\n",
      "lecture ligne\n",
      "lecture ligne\n",
      "lecture ligne\n",
      "lecture ligne\n",
      "lecture ligne\n",
      "lecture ligne\n",
      "lecture ligne\n",
      "lecture ligne\n",
      "lecture ligne\n",
      "lecture ligne\n"
     ]
    }
   ],
   "source": [
    "for l in lire_fichier_liste('./data/60159_0000E.csv'):\n",
    "    print(l)\n",
    "    break"
   ]
  },
  {
   "cell_type": "markdown",
   "metadata": {},
   "source": [
    "On voit ici que toutes les lignes sont lues pour l'affichage d'une seule ligne --> utilisation générateur"
   ]
  },
  {
   "cell_type": "markdown",
   "metadata": {},
   "source": [
    "### Question 2"
   ]
  },
  {
   "cell_type": "code",
   "execution_count": 27,
   "metadata": {},
   "outputs": [],
   "source": [
    "def lire_fichier_gen(fname):\n",
    "    with open(fname) as f:\n",
    "        reader = csv.DictReader(f, dialect=dial)\n",
    "        for r in reader:\n",
    "            print('lecture ligne',file=sys.stderr)\n",
    "            yield dict(r)"
   ]
  },
  {
   "cell_type": "code",
   "execution_count": 29,
   "metadata": {},
   "outputs": [
    {
     "name": "stdout",
     "output_type": "stream",
     "text": [
      "{'Code service CH': 'None', 'Reference document': 'None', '1 Articles CGI': 'None', '2 Articles CGI': 'None', '3 Articles CGI': 'None', '4 Articles CGI': 'None', '5 Articles CGI': 'None', 'No disposition': '000001', 'Date mutation': '2018-02-28', 'Nature mutation': 'Vente', 'Valeur fonciere': '729700', 'No voie': 'None', 'B/T/Q': 'None', 'Type de voie': 'None', 'Code voie': 'B068', 'Voie': 'L ORTILLE', 'Code postal': '60200', 'Commune': 'COMPIEGNE', 'Code departement': '60', 'Code commune': '159', 'Prefixe de section': 'None', 'Section': 'E', 'No plan': '64', 'No Volume': 'None', '1er lot': 'None', 'Surface Carrez du 1er lot': 'None', '2eme lot': 'None', 'Surface Carrez du 2eme lot': 'None', '3eme lot': 'None', 'Surface Carrez du 3eme lot': 'None', '4eme lot': 'None', 'Surface Carrez du 4eme lot': 'None', '5eme lot': 'None', 'Surface Carrez du 5eme lot': 'None', 'Nombre de lots': '0', 'Code type local': 'nan', 'Type local': 'None', 'Identifiant local': 'None', 'Surface reelle bati': 'nan', 'Nombre pieces principales': 'nan', 'Nature culture': 'BR', 'Nature culture speciale': 'None', 'Surface terrain': '3840', 'Code parcelle': '601590000E0064', 'Code INSEE': '60159', 'Section prefixe': '0000E', 'groupe': '0'}\n"
     ]
    },
    {
     "name": "stderr",
     "output_type": "stream",
     "text": [
      "lecture ligne\n"
     ]
    }
   ],
   "source": [
    "for l in lire_fichier_gen('./data/60159_0000E.csv'):\n",
    "    print(l)\n",
    "    break"
   ]
  },
  {
   "cell_type": "markdown",
   "metadata": {},
   "source": [
    "Ici on travaille avec des flux de données --> On ne stock pas tout, on procède au fur et à mesure "
   ]
  },
  {
   "cell_type": "markdown",
   "metadata": {},
   "source": [
    "### Question 3\n",
    "Module permettant d'obtenir un générateur sur les données"
   ]
  },
  {
   "cell_type": "code",
   "execution_count": 37,
   "metadata": {},
   "outputs": [
    {
     "name": "stdout",
     "output_type": "stream",
     "text": [
      "{'Code service CH': 'None', 'Reference document': 'None', '1 Articles CGI': 'None', '2 Articles CGI': 'None', '3 Articles CGI': 'None', '4 Articles CGI': 'None', '5 Articles CGI': 'None', 'No disposition': '000001', 'Date mutation': '2018-02-28', 'Nature mutation': 'Vente', 'Valeur fonciere': '729700', 'No voie': 'None', 'B/T/Q': 'None', 'Type de voie': 'None', 'Code voie': 'B068', 'Voie': 'L ORTILLE', 'Code postal': '60200', 'Commune': 'COMPIEGNE', 'Code departement': '60', 'Code commune': '159', 'Prefixe de section': 'None', 'Section': 'E', 'No plan': '64', 'No Volume': 'None', '1er lot': 'None', 'Surface Carrez du 1er lot': 'None', '2eme lot': 'None', 'Surface Carrez du 2eme lot': 'None', '3eme lot': 'None', 'Surface Carrez du 3eme lot': 'None', '4eme lot': 'None', 'Surface Carrez du 4eme lot': 'None', '5eme lot': 'None', 'Surface Carrez du 5eme lot': 'None', 'Nombre de lots': '0', 'Code type local': 'nan', 'Type local': 'None', 'Identifiant local': 'None', 'Surface reelle bati': 'nan', 'Nombre pieces principales': 'nan', 'Nature culture': 'BR', 'Nature culture speciale': 'None', 'Surface terrain': '3840', 'Code parcelle': '601590000E0064', 'Code INSEE': '60159', 'Section prefixe': '0000E', 'groupe': '0'}\n"
     ]
    },
    {
     "name": "stderr",
     "output_type": "stream",
     "text": [
      "lecture ligne\n"
     ]
    }
   ],
   "source": [
    "import manip\n",
    "for l in lire_fichier_gen('./data/60159_0000E.csv'):\n",
    "    print(l)\n",
    "    break"
   ]
  },
  {
   "cell_type": "markdown",
   "metadata": {},
   "source": [
    "## Premières requetes \n",
    "* Quelle est la section cadastrale la plus sujette aux mutations ?"
   ]
  },
  {
   "cell_type": "code",
   "execution_count": 44,
   "metadata": {},
   "outputs": [
    {
     "ename": "AttributeError",
     "evalue": "module 'manip' has no attribute 'get_nombre_mutation'",
     "output_type": "error",
     "traceback": [
      "\u001b[0;31m---------------------------------------------------------------------------\u001b[0m",
      "\u001b[0;31mAttributeError\u001b[0m                            Traceback (most recent call last)",
      "\u001b[0;32m<ipython-input-44-d7084b21411b>\u001b[0m in \u001b[0;36m<module>\u001b[0;34m\u001b[0m\n\u001b[1;32m      1\u001b[0m \u001b[0;32mimport\u001b[0m \u001b[0mmanip\u001b[0m \u001b[0;32mas\u001b[0m \u001b[0mmanip\u001b[0m\u001b[0;34m\u001b[0m\u001b[0m\n\u001b[1;32m      2\u001b[0m \u001b[0;34m\u001b[0m\u001b[0m\n\u001b[0;32m----> 3\u001b[0;31m \u001b[0mprint\u001b[0m\u001b[0;34m(\u001b[0m\u001b[0mmanip\u001b[0m\u001b[0;34m.\u001b[0m\u001b[0mget_nombre_mutation\u001b[0m\u001b[0;34m(\u001b[0m\u001b[0;34m'./data/60159_000AA.csv'\u001b[0m\u001b[0;34m)\u001b[0m\u001b[0;34m)\u001b[0m\u001b[0;34m\u001b[0m\u001b[0m\n\u001b[0m",
      "\u001b[0;31mAttributeError\u001b[0m: module 'manip' has no attribute 'get_nombre_mutation'"
     ]
    }
   ],
   "source": [
    "import manip\n",
    "\n",
    "print(manip.get_nombre_mutation('./data/60159_000AA.csv'))"
   ]
  },
  {
   "cell_type": "markdown",
   "metadata": {},
   "source": [
    "* Quel est le prix moyen au metre carré de chaque section cadastrale ? "
   ]
  },
  {
   "cell_type": "code",
   "execution_count": null,
   "metadata": {},
   "outputs": [],
   "source": []
  },
  {
   "cell_type": "markdown",
   "metadata": {},
   "source": [
    "* Combien de fois une parcelle est muté en moyenne ?"
   ]
  },
  {
   "cell_type": "code",
   "execution_count": null,
   "metadata": {},
   "outputs": [],
   "source": []
  }
 ],
 "metadata": {
  "celltoolbar": "Format de la Cellule Texte Brut",
  "kernelspec": {
   "display_name": "Python 3",
   "language": "python",
   "name": "python3"
  },
  "language_info": {
   "codemirror_mode": {
    "name": "ipython",
    "version": 3
   },
   "file_extension": ".py",
   "mimetype": "text/x-python",
   "name": "python",
   "nbconvert_exporter": "python",
   "pygments_lexer": "ipython3",
   "version": "3.7.0"
  },
  "widgets": {
   "application/vnd.jupyter.widget-state+json": {
    "state": {},
    "version_major": 2,
    "version_minor": 0
   }
  }
 },
 "nbformat": 4,
 "nbformat_minor": 2
}
